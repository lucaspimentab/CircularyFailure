{
 "cells": [
  {
   "cell_type": "code",
   "execution_count": null,
   "id": "ae44c974",
   "metadata": {},
   "outputs": [],
   "source": [
    "# 📚 Imports\n",
    "import torch\n",
    "import numpy as np\n",
    "import matplotlib.pyplot as plt\n",
    "from sklearn.metrics import roc_curve, precision_recall_curve, auc, average_precision_score\n",
    "\n",
    "# 📦 Model names and colors\n",
    "model_names = ['Transformer', 'LSTM', 'GRU']\n",
    "colors = [\"#377eb8\", \"#ff7f00\", \"#4daf4a\"]\n",
    "\n",
    "# 🧠 Data dictionary: loaded externally (must be defined before)\n",
    "# roc_data = {model: [(y_true, y_pred), ...]} from multiple seeds\n",
    "# prc_data = {model: [(y_true, y_pred), ...]} from multiple seeds"
   ]
  }
 ],
 "metadata": {
  "language_info": {
   "name": "python"
  }
 },
 "nbformat": 4,
 "nbformat_minor": 5
}
